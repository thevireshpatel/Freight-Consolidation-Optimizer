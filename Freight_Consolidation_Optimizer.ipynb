{
  "nbformat": 4,
  "nbformat_minor": 0,
  "metadata": {
    "colab": {
      "provenance": [],
      "gpuType": "T4"
    },
    "kernelspec": {
      "name": "python3",
      "display_name": "Python 3"
    },
    "language_info": {
      "name": "python"
    },
    "accelerator": "GPU"
  },
  "cells": [
    {
      "cell_type": "markdown",
      "source": [
        "Import all necessary libraries, upload the dataset, and load it into a pandas DataFrame."
      ],
      "metadata": {
        "id": "l7v1dFQsAtA6"
      }
    },
    {
      "cell_type": "code",
      "execution_count": 1,
      "metadata": {
        "id": "qDiF1xjHu5jl"
      },
      "outputs": [],
      "source": [
        "# 1. Setup and Data Loading\n",
        "import pandas as pd\n",
        "import numpy as np\n",
        "import matplotlib.pyplot as plt\n",
        "import seaborn as sns\n",
        "from sklearn.model_selection import train_test_split, GridSearchCV\n",
        "from sklearn.pipeline import Pipeline\n",
        "from sklearn.compose import ColumnTransformer\n",
        "from sklearn.impute import SimpleImputer\n",
        "from sklearn.preprocessing import StandardScaler, OneHotEncoder\n",
        "from sklearn.ensemble import GradientBoostingRegressor\n",
        "from sklearn.metrics import mean_absolute_error, mean_squared_error, r2_score\n",
        "import joblib\n",
        "from datetime import datetime\n",
        "import math"
      ]
    },
    {
      "cell_type": "markdown",
      "source": [
        "Loading the Dataset: The DataFrame df is created by reading the CSV file. Confirm that the file name matches your dataset."
      ],
      "metadata": {
        "id": "pO_tJIzKAw2G"
      }
    },
    {
      "cell_type": "code",
      "source": [
        "\n",
        "# Upload dataset\n",
        "from google.colab import files\n",
        "uploaded = files.upload()\n",
        "\n",
        "# Load dataset\n",
        "df = pd.read_csv('freight_consolidation_dataset.csv')"
      ],
      "metadata": {
        "colab": {
          "base_uri": "https://localhost:8080/",
          "height": 73
        },
        "id": "MCFvzN6nu6md",
        "outputId": "c961c2da-98af-4967-943b-fffe4853845a"
      },
      "execution_count": 2,
      "outputs": [
        {
          "output_type": "display_data",
          "data": {
            "text/plain": [
              "<IPython.core.display.HTML object>"
            ],
            "text/html": [
              "\n",
              "     <input type=\"file\" id=\"files-ba789660-7595-462e-be42-cbe5797b91f8\" name=\"files[]\" multiple disabled\n",
              "        style=\"border:none\" />\n",
              "     <output id=\"result-ba789660-7595-462e-be42-cbe5797b91f8\">\n",
              "      Upload widget is only available when the cell has been executed in the\n",
              "      current browser session. Please rerun this cell to enable.\n",
              "      </output>\n",
              "      <script>// Copyright 2017 Google LLC\n",
              "//\n",
              "// Licensed under the Apache License, Version 2.0 (the \"License\");\n",
              "// you may not use this file except in compliance with the License.\n",
              "// You may obtain a copy of the License at\n",
              "//\n",
              "//      http://www.apache.org/licenses/LICENSE-2.0\n",
              "//\n",
              "// Unless required by applicable law or agreed to in writing, software\n",
              "// distributed under the License is distributed on an \"AS IS\" BASIS,\n",
              "// WITHOUT WARRANTIES OR CONDITIONS OF ANY KIND, either express or implied.\n",
              "// See the License for the specific language governing permissions and\n",
              "// limitations under the License.\n",
              "\n",
              "/**\n",
              " * @fileoverview Helpers for google.colab Python module.\n",
              " */\n",
              "(function(scope) {\n",
              "function span(text, styleAttributes = {}) {\n",
              "  const element = document.createElement('span');\n",
              "  element.textContent = text;\n",
              "  for (const key of Object.keys(styleAttributes)) {\n",
              "    element.style[key] = styleAttributes[key];\n",
              "  }\n",
              "  return element;\n",
              "}\n",
              "\n",
              "// Max number of bytes which will be uploaded at a time.\n",
              "const MAX_PAYLOAD_SIZE = 100 * 1024;\n",
              "\n",
              "function _uploadFiles(inputId, outputId) {\n",
              "  const steps = uploadFilesStep(inputId, outputId);\n",
              "  const outputElement = document.getElementById(outputId);\n",
              "  // Cache steps on the outputElement to make it available for the next call\n",
              "  // to uploadFilesContinue from Python.\n",
              "  outputElement.steps = steps;\n",
              "\n",
              "  return _uploadFilesContinue(outputId);\n",
              "}\n",
              "\n",
              "// This is roughly an async generator (not supported in the browser yet),\n",
              "// where there are multiple asynchronous steps and the Python side is going\n",
              "// to poll for completion of each step.\n",
              "// This uses a Promise to block the python side on completion of each step,\n",
              "// then passes the result of the previous step as the input to the next step.\n",
              "function _uploadFilesContinue(outputId) {\n",
              "  const outputElement = document.getElementById(outputId);\n",
              "  const steps = outputElement.steps;\n",
              "\n",
              "  const next = steps.next(outputElement.lastPromiseValue);\n",
              "  return Promise.resolve(next.value.promise).then((value) => {\n",
              "    // Cache the last promise value to make it available to the next\n",
              "    // step of the generator.\n",
              "    outputElement.lastPromiseValue = value;\n",
              "    return next.value.response;\n",
              "  });\n",
              "}\n",
              "\n",
              "/**\n",
              " * Generator function which is called between each async step of the upload\n",
              " * process.\n",
              " * @param {string} inputId Element ID of the input file picker element.\n",
              " * @param {string} outputId Element ID of the output display.\n",
              " * @return {!Iterable<!Object>} Iterable of next steps.\n",
              " */\n",
              "function* uploadFilesStep(inputId, outputId) {\n",
              "  const inputElement = document.getElementById(inputId);\n",
              "  inputElement.disabled = false;\n",
              "\n",
              "  const outputElement = document.getElementById(outputId);\n",
              "  outputElement.innerHTML = '';\n",
              "\n",
              "  const pickedPromise = new Promise((resolve) => {\n",
              "    inputElement.addEventListener('change', (e) => {\n",
              "      resolve(e.target.files);\n",
              "    });\n",
              "  });\n",
              "\n",
              "  const cancel = document.createElement('button');\n",
              "  inputElement.parentElement.appendChild(cancel);\n",
              "  cancel.textContent = 'Cancel upload';\n",
              "  const cancelPromise = new Promise((resolve) => {\n",
              "    cancel.onclick = () => {\n",
              "      resolve(null);\n",
              "    };\n",
              "  });\n",
              "\n",
              "  // Wait for the user to pick the files.\n",
              "  const files = yield {\n",
              "    promise: Promise.race([pickedPromise, cancelPromise]),\n",
              "    response: {\n",
              "      action: 'starting',\n",
              "    }\n",
              "  };\n",
              "\n",
              "  cancel.remove();\n",
              "\n",
              "  // Disable the input element since further picks are not allowed.\n",
              "  inputElement.disabled = true;\n",
              "\n",
              "  if (!files) {\n",
              "    return {\n",
              "      response: {\n",
              "        action: 'complete',\n",
              "      }\n",
              "    };\n",
              "  }\n",
              "\n",
              "  for (const file of files) {\n",
              "    const li = document.createElement('li');\n",
              "    li.append(span(file.name, {fontWeight: 'bold'}));\n",
              "    li.append(span(\n",
              "        `(${file.type || 'n/a'}) - ${file.size} bytes, ` +\n",
              "        `last modified: ${\n",
              "            file.lastModifiedDate ? file.lastModifiedDate.toLocaleDateString() :\n",
              "                                    'n/a'} - `));\n",
              "    const percent = span('0% done');\n",
              "    li.appendChild(percent);\n",
              "\n",
              "    outputElement.appendChild(li);\n",
              "\n",
              "    const fileDataPromise = new Promise((resolve) => {\n",
              "      const reader = new FileReader();\n",
              "      reader.onload = (e) => {\n",
              "        resolve(e.target.result);\n",
              "      };\n",
              "      reader.readAsArrayBuffer(file);\n",
              "    });\n",
              "    // Wait for the data to be ready.\n",
              "    let fileData = yield {\n",
              "      promise: fileDataPromise,\n",
              "      response: {\n",
              "        action: 'continue',\n",
              "      }\n",
              "    };\n",
              "\n",
              "    // Use a chunked sending to avoid message size limits. See b/62115660.\n",
              "    let position = 0;\n",
              "    do {\n",
              "      const length = Math.min(fileData.byteLength - position, MAX_PAYLOAD_SIZE);\n",
              "      const chunk = new Uint8Array(fileData, position, length);\n",
              "      position += length;\n",
              "\n",
              "      const base64 = btoa(String.fromCharCode.apply(null, chunk));\n",
              "      yield {\n",
              "        response: {\n",
              "          action: 'append',\n",
              "          file: file.name,\n",
              "          data: base64,\n",
              "        },\n",
              "      };\n",
              "\n",
              "      let percentDone = fileData.byteLength === 0 ?\n",
              "          100 :\n",
              "          Math.round((position / fileData.byteLength) * 100);\n",
              "      percent.textContent = `${percentDone}% done`;\n",
              "\n",
              "    } while (position < fileData.byteLength);\n",
              "  }\n",
              "\n",
              "  // All done.\n",
              "  yield {\n",
              "    response: {\n",
              "      action: 'complete',\n",
              "    }\n",
              "  };\n",
              "}\n",
              "\n",
              "scope.google = scope.google || {};\n",
              "scope.google.colab = scope.google.colab || {};\n",
              "scope.google.colab._files = {\n",
              "  _uploadFiles,\n",
              "  _uploadFilesContinue,\n",
              "};\n",
              "})(self);\n",
              "</script> "
            ]
          },
          "metadata": {}
        },
        {
          "output_type": "stream",
          "name": "stdout",
          "text": [
            "Saving freight_consolidation_dataset.csv to freight_consolidation_dataset.csv\n"
          ]
        }
      ]
    },
    {
      "cell_type": "markdown",
      "source": [
        "Clean the dataset and prepare it for analysis.\n",
        "`A print statement outputs all current column names. Ensure that all expected columns are present before proceeding.`"
      ],
      "metadata": {
        "id": "yuLdu9lxA_Wf"
      }
    },
    {
      "cell_type": "code",
      "source": [
        "# 2. Data Preprocessing\n",
        "# Handle missing values\n",
        "print(\"Missing values before handling:\\n\", df.isnull().sum())\n",
        "df.fillna(df.mean(numeric_only=True), inplace=True)  # Numeric columns\n",
        "df.fillna(df.mode().iloc[0], inplace=True)  # Categorical columns\n",
        "\n",
        "# Convert Delivery_Deadline to datetime\n",
        "df['Delivery_Deadline'] = pd.to_datetime(df['Delivery_Deadline'])\n",
        "\n",
        "# Identify numerical and categorical columns\n",
        "numerical_cols = ['Pickup_Latitude', 'Pickup_Longitude', 'Delivery_Latitude',\n",
        "                  'Delivery_Longitude', 'Distance_km', 'Estimated_Travel_Time_h',\n",
        "                  'Fuel_Cost_per_km', 'Vehicle_Capacity_kg', 'Vehicle_Capacity_m3']\n",
        "\n",
        "categorical_cols = ['Delivery_Priority', 'Vehicle_Type', 'Route_Type',\n",
        "                    'Special_Requirements', 'Urgency_Level', 'Packaging_Type',\n",
        "                    'Border_Crossing_Fee', 'Weather_Impact', 'Region']\n",
        "\n",
        "# Verify columns exist\n",
        "print(\"Columns before feature engineering:\", df.columns.tolist())"
      ],
      "metadata": {
        "id": "XUW6Q_5xvB9Y"
      },
      "execution_count": null,
      "outputs": []
    },
    {
      "cell_type": "markdown",
      "source": [
        "Create a new target variable, Total_Cost, by summing Fuel_Cost, Fixed_Cost, and Variable_Cost. Compute additional features such as the Haversine distance (calculating real-world distance between points) and extract time-based features from Delivery_Deadline. Remove the original cost fields post-calculation to avoid redundancy."
      ],
      "metadata": {
        "id": "vtDyQm9qBuYq"
      }
    },
    {
      "cell_type": "code",
      "source": [
        "# 3. Feature Engineering\n",
        "# Create Total_Cost target variable\n",
        "df['Total_Cost'] = df['Fuel_Cost_per_km.1'] + df['Fixed_Cost_per_Shipment'] + df['Variable_Cost_per_km']\n",
        "\n",
        "# Create Haversine distance feature\n",
        "def haversine_distance(row):\n",
        "    lat1, lon1 = row['Pickup_Latitude'], row['Pickup_Longitude']\n",
        "    lat2, lon2 = row['Delivery_Latitude'], row['Delivery_Longitude']\n",
        "    R = 6371  # Earth radius in km\n",
        "    phi1, phi2 = math.radians(lat1), math.radians(lat2)\n",
        "    dphi = math.radians(lat2 - lat1)\n",
        "    dlambda = math.radians(lon2 - lon1)\n",
        "\n",
        "    a = math.sin(dphi/2)**2 + math.cos(phi1)*math.cos(phi2)*math.sin(dlambda/2)**2\n",
        "    return 2 * R * math.atan2(math.sqrt(a), math.sqrt(1 - a))\n",
        "\n",
        "df['Haversine_Distance'] = df.apply(haversine_distance, axis=1)\n",
        "\n",
        "# Create time-related features from Delivery_Deadline\n",
        "df['Deadline_Hour'] = df['Delivery_Deadline'].dt.hour\n",
        "df['Deadline_Day'] = df['Delivery_Deadline'].dt.dayofweek\n",
        "\n",
        "# Drop original cost columns and unnecessary features\n",
        "df.drop(['Fuel_Cost_per_km.1', 'Fixed_Cost_per_Shipment', 'Variable_Cost_per_km'], axis=1, inplace=True)\n",
        "\n",
        "# Verify columns after feature engineering\n",
        "print(\"\\nColumns after feature engineering:\", df.columns.tolist())\n",
        "# Check if ALL specified columns are present before proceeding\n",
        "missing_cols = [col for col in numerical_cols + categorical_cols if col not in df.columns]\n",
        "if missing_cols:\n",
        "    raise ValueError(f\"The following columns are missing: {missing_cols}\")\n",
        "\n",
        "# Check if Fuel_Cost_per_km is still present\n",
        "if 'Fuel_Cost_per_km' not in df.columns:\n",
        "    raise ValueError(\"Fuel_Cost_per_km column is missing after feature engineering\")"
      ],
      "metadata": {
        "colab": {
          "base_uri": "https://localhost:8080/"
        },
        "id": "bk-vF-hnvE96",
        "outputId": "c404908f-4925-4a98-fc01-93c7609d285d"
      },
      "execution_count": 4,
      "outputs": [
        {
          "output_type": "stream",
          "name": "stdout",
          "text": [
            "\n",
            "Columns after feature engineering: ['Shipment_ID', 'Weight_kg', 'Volume_m3', 'Pickup_Latitude', 'Pickup_Longitude', 'Delivery_Latitude', 'Delivery_Longitude', 'Delivery_Priority', 'Vehicle_Capacity_kg', 'Vehicle_Capacity_m3', 'Fuel_Cost_per_km', 'Vehicle_Type', 'Distance_km', 'Estimated_Travel_Time_h', 'Route_Type', 'Delivery_Deadline', 'Special_Requirements', 'Urgency_Level', 'Packaging_Type', 'Border_Crossing_Fee', 'Weather_Impact', 'Region', 'Total_Cost', 'Haversine_Distance', 'Deadline_Hour', 'Deadline_Day']\n"
          ]
        }
      ]
    },
    {
      "cell_type": "markdown",
      "source": [
        "Separate dataset into features (X) and target (y), then perform a split into training (70%), validation (15%), and test (15%) datasets to prepare for unbiased model evaluation and hyperparameter tuning."
      ],
      "metadata": {
        "id": "HrPEb1qUB1xD"
      }
    },
    {
      "cell_type": "code",
      "source": [
        "# 4. Data Splitting\n",
        "X = df.drop('Total_Cost', axis=1)\n",
        "y = df['Total_Cost']\n",
        "\n",
        "# Split into train (70%), validation (15%), test (15%)\n",
        "X_train, X_temp, y_train, y_temp = train_test_split(X, y, test_size=0.3, random_state=42)\n",
        "X_val, X_test, y_val, y_test = train_test_split(X_temp, y_temp, test_size=0.5, random_state=42)\n"
      ],
      "metadata": {
        "id": "55U563MrvIrf"
      },
      "execution_count": 5,
      "outputs": []
    },
    {
      "cell_type": "markdown",
      "source": [
        "Construct separate preprocessing pipelines for numerical and categorical data using imputation, scaling, and encoding methods. Use a ColumnTransformer to combine these pipelines and then integrate them into a full ML pipeline with a Gradient Boosting Regressor to predict Total_Cost."
      ],
      "metadata": {
        "id": "iEgXeumaB7Ph"
      }
    },
    {
      "cell_type": "code",
      "source": [
        "# 5. Model Pipeline and Selection\n",
        "# Preprocessing pipeline\n",
        "numeric_transformer = Pipeline(steps=[\n",
        "    ('imputer', SimpleImputer(strategy='mean')),\n",
        "    ('scaler', StandardScaler())])\n",
        "\n",
        "categorical_transformer = Pipeline(steps=[\n",
        "    ('imputer', SimpleImputer(strategy='most_frequent')),\n",
        "    ('onehot', OneHotEncoder(handle_unknown='ignore'))])\n",
        "\n",
        "preprocessor = ColumnTransformer(\n",
        "    transformers=[\n",
        "        ('num', numeric_transformer, numerical_cols),\n",
        "        ('cat', categorical_transformer, categorical_cols)])\n",
        "\n",
        "# Complete pipeline with Gradient Boosting Regressor\n",
        "model = Pipeline(steps=[\n",
        "    ('preprocessor', preprocessor),\n",
        "    ('regressor', GradientBoostingRegressor(random_state=42))])"
      ],
      "metadata": {
        "id": "unvaB093vK-r"
      },
      "execution_count": 6,
      "outputs": []
    },
    {
      "cell_type": "markdown",
      "source": [
        "Define a grid of hyperparameters for the Gradient Boosting Regressor, then use GridSearchCV to train the model with cross-validation on the training set. Identify and extract the best performing model from the search process."
      ],
      "metadata": {
        "id": "YS53r861CHFP"
      }
    },
    {
      "cell_type": "code",
      "source": [
        "# 6. Model Training and Hyperparameter Tuning\n",
        "param_grid = {\n",
        "    'regressor__n_estimators': [100, 200],\n",
        "    'regressor__learning_rate': [0.1, 0.05],\n",
        "    'regressor__max_depth': [3, 4]\n",
        "}\n",
        "\n",
        "grid_search = GridSearchCV(model, param_grid, cv=3, scoring='neg_mean_absolute_error')\n",
        "grid_search.fit(X_train, y_train)\n",
        "\n",
        "best_model = grid_search.best_estimator_"
      ],
      "metadata": {
        "id": "JI4KxuAovORO"
      },
      "execution_count": 7,
      "outputs": []
    },
    {
      "cell_type": "markdown",
      "source": [
        "Evaluate the tuned model on the validation and test sets using regression metrics such as MAE, RMSE, and R². Generate scatter plots (predicted vs. actual) and histogram plots of residuals to visually assess the model’s prediction performance."
      ],
      "metadata": {
        "id": "SseJ_AXpCKQY"
      }
    },
    {
      "cell_type": "code",
      "source": [
        "# 7. Model Evaluation\n",
        "\"\"\"\n",
        "def evaluate_model(model, X, y):\n",
        "    y_pred = model.predict(X)\n",
        "    mae = mean_absolute_error(y, y_pred)\n",
        "    rmse = mean_squared_error(y, y_pred, squared=False)\n",
        "    r2 = r2_score(y, y_pred)\n",
        "    return mae, rmse, r2\n",
        "\"\"\"\n",
        "def evaluate_model(model, X, y):\n",
        "    y_pred = model.predict(X)\n",
        "    mae = mean_absolute_error(y, y_pred)\n",
        "    # Calculate RMSE without the 'squared' argument\n",
        "    rmse = np.sqrt(mean_squared_error(y, y_pred))\n",
        "    r2 = r2_score(y, y_pred)\n",
        "    return mae, rmse, r2\n",
        "# Validation set evaluation\n",
        "val_mae, val_rmse, val_r2 = evaluate_model(best_model, X_val, y_val)\n",
        "print(f\"Validation Set:\\nMAE: {val_mae:.2f}\\nRMSE: {val_rmse:.2f}\\nR²: {val_r2:.2f}\\n\")\n",
        "\n",
        "# Test set evaluation\n",
        "test_mae, test_rmse, test_r2 = evaluate_model(best_model, X_test, y_test)\n",
        "print(f\"Test Set:\\nMAE: {test_mae:.2f}\\nRMSE: {test_rmse:.2f}\\nR²: {test_r2:.2f}\")\n",
        "\"\"\"\n",
        "# Visualizations\n",
        "plt.figure(figsize=(10, 6))\n",
        "sns.scatterplot(y_test, best_model.predict(X_test))\n",
        "plt.xlabel(\"Actual Total Cost\")\n",
        "plt.ylabel(\"Predicted Total Cost\")\n",
        "plt.title(\"Actual vs Predicted Total Cost (Test Set)\")\n",
        "plt.show()\n",
        "\n",
        "residuals = y_test - best_model.predict(X_test)\n",
        "sns.histplot(residuals, kde=True)\n",
        "plt.title(\"Residual Distribution\")\n",
        "plt.show()\n",
        "\"\"\"\n",
        "# Visualizations\n",
        "plt.figure(figsize=(10, 6))\n",
        "# Using the 'x' and 'y' arguments to specify columns within a DataFrame:\n",
        "sns.scatterplot(x=y_test, y=best_model.predict(X_test))\n",
        "plt.xlabel(\"Actual Total Cost\")\n",
        "plt.ylabel(\"Predicted Total Cost\")\n",
        "plt.title(\"Actual vs Predicted Total Cost (Test Set)\")\n",
        "plt.show()"
      ],
      "metadata": {
        "colab": {
          "base_uri": "https://localhost:8080/",
          "height": 720
        },
        "id": "0qfKUKA7vQbC",
        "outputId": "f7de6129-6c9b-4e40-986a-d7fe8f6d7072"
      },
      "execution_count": 11,
      "outputs": [
        {
          "output_type": "stream",
          "name": "stdout",
          "text": [
            "Validation Set:\n",
            "MAE: 64.06\n",
            "RMSE: 73.53\n",
            "R²: -0.00\n",
            "\n",
            "Test Set:\n",
            "MAE: 63.69\n",
            "RMSE: 73.57\n",
            "R²: -0.01\n"
          ]
        },
        {
          "output_type": "display_data",
          "data": {
            "text/plain": [
              "<Figure size 1000x600 with 1 Axes>"
            ],
            "image/png": "[encoded data removed]"
          },
          "metadata": {}
        }
      ]
    },
    {
      "cell_type": "markdown",
      "source": [
        "Serialize (save) the final model using joblib for future use or integration into a real-time system. A sample prediction is also demonstrated to show how the model can be used to generate output from new input data"
      ],
      "metadata": {
        "id": "1MOhdvUGCOXa"
      }
    },
    {
      "cell_type": "code",
      "source": [
        "# 8. Model Deployment\n",
        "joblib.dump(best_model, 'freight_optimizer_model.joblib')\n",
        "\n",
        "# Example usage\n",
        "sample_data = X_test.iloc[[0]]\n",
        "prediction = best_model.predict(sample_data)\n",
        "print(f\"\\nSample Prediction: {prediction[0]:.2f}\")\n",
        "print(f\"Actual Value: {y_test.iloc[0]:.2f}\")"
      ],
      "metadata": {
        "colab": {
          "base_uri": "https://localhost:8080/"
        },
        "id": "Y-if2htdvTdp",
        "outputId": "51cee344-fd40-4269-f194-2b7dc26ee548"
      },
      "execution_count": 12,
      "outputs": [
        {
          "output_type": "stream",
          "name": "stdout",
          "text": [
            "\n",
            "Sample Prediction: 179.82\n",
            "Actual Value: 60.54\n"
          ]
        }
      ]
    },
    {
      "cell_type": "code",
      "source": [
        "loaded_model = joblib.load('freight_optimizer_model.joblib')\n",
        "new_predictions = loaded_model.predict('freight_consolidation_dataset.csv')"
      ],
      "metadata": {
        "id": "4r8zHha7745Q"
      },
      "execution_count": null,
      "outputs": []
    }
  ]
}